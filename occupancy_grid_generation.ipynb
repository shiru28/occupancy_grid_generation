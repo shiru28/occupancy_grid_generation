{
 "cells": [
  {
   "cell_type": "markdown",
   "metadata": {},
   "source": [
    "# Occupancy Grid Generation\n",
    "This notebook will walk you through the process of generating an occupancy grid using lidar scanner measurements from a moving vehicle in an unknown environment. We will use inverse scanner measurement model to map these measurements into occupancy probabilities, and then perform iterative log odds updates to an occupancy grid belief map. After the car has gathered enough data, the occupancy grid should converge to true map.\n",
    "\n",
    "The project has been divided in to following steps:\n",
    "- Gather range measurements of a moving car's surroundings using a lidar scanning function\n",
    "- Extract occupancy information from the range measurements using an inverse scanner model.\n",
    "- Perform logodds updates on an occupancy grids based on incoming measurements.\n",
    "- Iteratively construct a probabilistic occupancy grid from those log odds updates."
   ]
  },
  {
   "cell_type": "code",
   "execution_count": 2,
   "metadata": {},
   "outputs": [],
   "source": [
    "import numpy as np\n",
    "import math\n",
    "import matplotlib.pyplot as plt\n",
    "import matplotlib.animation as anim\n",
    "from IPython.display import Image"
   ]
  },
  {
   "cell_type": "markdown",
   "metadata": {},
   "source": [
    "In this notebook, we will generate an occupancy grid based off multiple simulated lidar scans. The `inverse_scanner()` function returns a matrix of measured occupancy probability values based on the lidar scan model. The `get_ranges()` function actually returns the scanned ranges value for a given vehicle position and scanner bearing. These two functions are give below."
   ]
  },
  {
   "cell_type": "code",
   "execution_count": 3,
   "metadata": {},
   "outputs": [],
   "source": [
    "def inverse_scanner(num_rows, num_cols, x, y, theta, meas_phi, meas_r, rmax, alpha, beta):\n",
    "    m = np.zeros((M, N))\n",
    "    for i in range(num_rows):\n",
    "        for j in range(num_cols):\n",
    "            # Find range and bearing relative to the input state (x, y, theta).\n",
    "            r = math.sqrt((i - x)**2 + (j - y)**2)\n",
    "            phi = (math.atan2(j - y, i - x) - theta + math.pi) % (2 * math.pi) - math.pi\n",
    "            \n",
    "            # Find the range measurement associated with the relative bearing.\n",
    "            k = np.argmin(np.abs(np.subtract(phi, meas_phi)))\n",
    "            \n",
    "            # If the range is greater than the maximum sensor range, or behind our range\n",
    "            # measurement, or is outside of the field of view of the sensor, then no\n",
    "            # new information is available.\n",
    "            if (r > min(rmax, meas_r[k] + alpha / 2.0)) or (abs(phi - meas_phi[k]) > beta / 2.0):\n",
    "                m[i,j] = 0.5\n",
    "                \n",
    "            # If the range measurement lied within this cell, it is likely to be an object.\n",
    "            elif (meas_r[k] < rmax) and (abs(r - meas_r[k]) < alpha / 2.0):\n",
    "                m[i,j] = 0.7\n",
    "                \n",
    "            # If the cell is in front of the range measurement, it is likely to be empty.\n",
    "            elif r < meas_r[k]:\n",
    "                m[i,j] = 0.3\n",
    "                \n",
    "    return m"
   ]
  },
  {
   "cell_type": "code",
   "execution_count": 4,
   "metadata": {},
   "outputs": [],
   "source": [
    "# Generates range measurements for a laser scanner based on a map, vehicle position,\n",
    "# and sensor parameters.\n",
    "# Uses the ray tracing algorithm.\n",
    "def get_ranges(true_map, X, meas_phi, rmax):\n",
    "    (M, N) = np.shape(true_map)\n",
    "    x = X[0]\n",
    "    y = X[1]\n",
    "    theta = X[2]\n",
    "    meas_r = rmax * np.ones(meas_phi.shape)\n",
    "    \n",
    "    # Iterate over each measurement bearing\n",
    "    for i in range(len(meas_phi)):\n",
    "        # Iterate over each unit step up to and including max\n",
    "        for r in range(1, rmax + 1):\n",
    "            # Determine the coordintates of each cell\n",
    "            xi = int(round(x + r * math.cos(theta + meas_phi[i])))\n",
    "            yi = int(round(y + r * math.sin(theta + meas_phi[i])))\n",
    "            \n",
    "            # If not in the map, set measurement there and stop going further.\n",
    "            if (xi <= 0 or xi >= M-1 or yi <=0 or yi >= N-1):\n",
    "                meas_r[i] = r\n",
    "                break\n",
    "            # If in the map, but hitting an obstacle, set the measurement range\n",
    "            # and stop ray tracing.\n",
    "            elif true_map[int(round(xi)), int(round(yi))] == 1:\n",
    "                meas_r[i] = r\n",
    "                break\n",
    "                \n",
    "    return meas_r"
   ]
  },
  {
   "cell_type": "markdown",
   "metadata": {},
   "source": [
    "In the following cell, we initialize the required variables for our simulation. THis includes the initial state ass well as the set of control actions for the car. We also set the rate of rotation of our lidar scan. The bstacles of the true map are represented by 1's in the true map, 0's represent free space. Each cell in the belief map `m` is initialized to 0.5 as our prior probability of occupancy, and from that belief map we compute ou logodds occupancy grid `L`."
   ]
  },
  {
   "cell_type": "code",
   "execution_count": 5,
   "metadata": {},
   "outputs": [],
   "source": [
    "T_MAX = 150\n",
    "time_steps = np.arange(T_MAX)\n",
    "\n",
    "# Initializing the robot's location\n",
    "x_0 = [30, 30, 0]\n",
    "\n",
    "# The sequence of robot motions.\n",
    "u = np.array([[3, 0, -3, 0], [0, 3, 0, -3]])\n",
    "u_i = 1\n",
    "\n",
    "# Robot sensor rotation command\n",
    "w = np.multiply(0.3, np.ones(len(time_steps)))\n",
    "\n",
    "# True map (note, columns of map correspond to y axis and rows to x axis, so \n",
    "# robot position x = x(1) and y = x(2) are reversed when plotted to match\n",
    "M = 50\n",
    "N = 60\n",
    "true_map = np.zeros((M,N))\n",
    "true_map[0:10, 0:10] = 1\n",
    "true_map[30:35, 40:45] = 1\n",
    "true_map[3:6, 40:60] = 1\n",
    "true_map[20:30, 25:29] = 1\n",
    "true_map[40:50, 5:25] = 1\n",
    "\n",
    "# Initialize the belief map.\n",
    "# We are assuming a uniform prior.\n",
    "m = np.multiply(0.5, np.ones((M,N)))\n",
    "\n",
    "# Initialize the log odds ratio.\n",
    "L0 = np.log(np.divide(m, np.subtract(1,m)))\n",
    "L = L0\n",
    "\n",
    "# Parameters for the sensor model.\n",
    "meas_phi = np.arange(-0.4, 0.4, 0.05)\n",
    "rmax = 30 # Max beam range\n",
    "alpha = 1 # Width of an obstacle (distance about measurement to fill in).\n",
    "beta = 0.05 # Angular width of a beam.\n",
    "\n",
    "# Initialize the vector of states for our simulation.\n",
    "x = np.zeros((3, len(time_steps)))\n",
    "x[:, 0] = x_0"
   ]
  },
  {
   "cell_type": "markdown",
   "metadata": {},
   "source": [
    "Here is where we will write our main simulation loop. After each step of robot motion, we will gather range data from lidar scan, and then apply the inverse scanner model to map these to a measured occupancy belief map. From this, we will then perform a log odds update on the log odds occupancy grid, and update our belief map accordingly. As the car traverses through the environment, the occupancy grid belief map should move closer and closer to the true map."
   ]
  },
  {
   "cell_type": "code",
   "execution_count": 6,
   "metadata": {},
   "outputs": [],
   "source": [
    "%%capture\n",
    "# Initialize figures\n",
    "map_fig = plt.figure()\n",
    "map_ax = map_fig.add_subplot(111)\n",
    "map_ax.set_xlim(0, N)\n",
    "map_ax.set_ylim(0, M)\n",
    "\n",
    "invmod_fig = plt.figure()\n",
    "invmod_ax = invmod_fig.add_subplot(111)\n",
    "invmod_ax.set_xlim(0, N)\n",
    "invmod_ax.set_ylim(0, M)\n",
    "\n",
    "belief_fig = plt.figure()\n",
    "belief_ax = belief_fig.add_subplot(111)\n",
    "belief_ax.set_xlim(0, N)\n",
    "belief_ax.set_ylim(0, M)\n",
    "\n",
    "meas_rs = []\n",
    "meas_r = get_ranges(true_map, x[:, 0], meas_phi, rmax)\n",
    "meas_rs.append(meas_r)\n",
    "invmods = []\n",
    "invmod = inverse_scanner(M, N, \n",
    "                         x[0, 0], x[1, 0], x[2, 0], \n",
    "                         meas_phi, meas_r, rmax, alpha, beta)\n",
    "invmods.append(invmod)\n",
    "ms = []\n",
    "ms.append(m)\n",
    "\n",
    "# Main simulation loop.\n",
    "for t in range(1, len(time_steps)):\n",
    "    # Perform robot motion.\n",
    "    move = np.add(x[0:2, t-1], u[:, u_i])\n",
    "    # If we hit the map boundaries, or a collision would occur, remain still.\n",
    "    if (move[0] >= M - 1) or (move[1] >= N - 1) or (move[0] <= 0) or (move[1] <= 0) or true_map[int(round(move[0])), int(round(move[1]))] == 1:\n",
    "        x[:,t] = x[:,t-1]\n",
    "        u_i = (u_i + 1) % 4\n",
    "    else:\n",
    "        x[0:2, t] = move\n",
    "    x[2,t] = (x[2, t-1] + w[t]) % (2 * math.pi)\n",
    "    \n",
    "    # Gather the measurement range data that will be converted to occupancy probabilities\n",
    "    # using our inverse measurement model.\n",
    "    meas_r = get_ranges(true_map, x[:,t], meas_phi, rmax)\n",
    "    meas_rs.append(meas_r)\n",
    "    \n",
    "    # Given our range measurements and our robot location, we will now apply our inverse scanner model\n",
    "    # to get our measured probabilities of occupancy.\n",
    "    invmod = inverse_scanner(M, N, \n",
    "                             x[0,t], x[1,t], x[2,t], \n",
    "                             meas_phi, meas_r, rmax, alpha, beta)\n",
    "    invmods.append(invmod)\n",
    "    \n",
    "    # Calculate and update the log odds of our occupancy grid, given our measured\n",
    "    # occupancy probabilities from the inverse model.\n",
    "    L = np.log(np.divide(invmod, np.subtract(1, invmod))) + L - L0\n",
    "    \n",
    "    # Calculate a grid of probabilities from the log odds.\n",
    "    m = np.divide(np.exp(L),1 + np.exp(L))\n",
    "    ms.append(m)"
   ]
  },
  {
   "cell_type": "markdown",
   "metadata": {},
   "source": [
    "Now that our main simulation loop is ready, we can visualize the robot motion in the true map, our measured belief map, and our occupancy grid belief map. These are shown in 1st, 2nd and 3rd videos, respectively. From the 3rd and 1st video you might notice that 3rd video converges to 1st video. This means that our occupany belief converges to true map."
   ]
  },
  {
   "cell_type": "code",
   "execution_count": 7,
   "metadata": {},
   "outputs": [],
   "source": [
    "def map_update(i):\n",
    "    map_ax.clear()\n",
    "    map_ax.set_xlim(0, N)\n",
    "    map_ax.set_ylim(0, M)\n",
    "    map_ax.imshow(np.subtract(1, true_map), cmap='gray', origin='lower', vmin=0.0, vmax=1.0)\n",
    "    x_plot = x[1, :i+1]\n",
    "    y_plot = x[0, :i+1]\n",
    "    map_ax.plot(x_plot, y_plot, \"bx-\")\n",
    "\n",
    "def invmod_update(i):\n",
    "    invmod_ax.clear()\n",
    "    invmod_ax.set_xlim(0, N)\n",
    "    invmod_ax.set_ylim(0, M)\n",
    "    invmod_ax.imshow(invmods[i], cmap='gray', origin='lower', vmin=0.0, vmax=1.0)\n",
    "    for j in range(len(meas_rs[i])):\n",
    "        invmod_ax.plot(x[1, i] + meas_rs[i][j] * math.sin(meas_phi[j] + x[2, i]), \\\n",
    "                       x[0, i] + meas_rs[i][j] * math.cos(meas_phi[j] + x[2, i]), \"ko\")\n",
    "    invmod_ax.plot(x[1, i], x[0, i], 'bx')\n",
    "    \n",
    "def belief_update(i):\n",
    "    belief_ax.clear()\n",
    "    belief_ax.set_xlim(0, N)\n",
    "    belief_ax.set_ylim(0, M)\n",
    "    belief_ax.imshow(ms[i], cmap='gray', origin='lower', vmin=0.0, vmax=1.0)\n",
    "    belief_ax.plot(x[1, max(0, i-10):i], x[0, max(0, i-10):i], 'bx-')\n",
    "    \n",
    "map_anim = anim.FuncAnimation(map_fig, map_update, frames=len(x[0, :]), repeat=False)\n",
    "invmod_anim = anim.FuncAnimation(invmod_fig, invmod_update, frames=len(x[0, :]), repeat=False)\n",
    "belief_anim = anim.FuncAnimation(belief_fig, belief_update, frames=len(x[0, :]), repeat=False)\n"
   ]
  },
  {
   "cell_type": "markdown",
   "metadata": {},
   "source": [
    "Following cell will save the animations of map updates into `gif` files."
   ]
  },
  {
   "cell_type": "code",
   "execution_count": null,
   "metadata": {},
   "outputs": [],
   "source": [
    "map_anim.save('true_map_animation.gif', writer = 'pillow')\n",
    "print('Saved True Map Animation\\n')\n",
    "invmod_anim.save('inverse_model_animation.gif', writer = 'pillow')\n",
    "print('Saved Inverse Model Animation\\n')\n",
    "belief_anim.save('belief_map_animation.gif', writer = 'pillow')\n",
    "print(\"Saved Belief Map Animation\")"
   ]
  }
 ],
 "metadata": {
  "kernelspec": {
   "display_name": "Python 3",
   "language": "python",
   "name": "python3"
  },
  "language_info": {
   "codemirror_mode": {
    "name": "ipython",
    "version": 3
   },
   "file_extension": ".py",
   "mimetype": "text/x-python",
   "name": "python",
   "nbconvert_exporter": "python",
   "pygments_lexer": "ipython3",
   "version": "3.6.8"
  }
 },
 "nbformat": 4,
 "nbformat_minor": 2
}
